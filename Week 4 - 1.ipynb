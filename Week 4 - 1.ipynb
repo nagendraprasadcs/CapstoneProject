{
    "cells": [
        {
            "cell_type": "markdown",
            "metadata": {
                "collapsed": true
            },
            "source": "### Battle of Neighbourhood - Business Proposal"
        },
        {
            "cell_type": "markdown",
            "metadata": {},
            "source": "### Introduction"
        },
        {
            "cell_type": "markdown",
            "metadata": {},
            "source": "Off late there has been steady growth in immigration to Canada.\nBefore one migrates to Canada, they need to study and understand how and where they need to live.\nOne also needs to consider economic situation so that one can afford better life for themselves as well as their family.\n\nThe aim of this study is to identifying rather exploring better facilities around their neighborhood of Toronto, Canada. \nIt will help people making smart and efficient decision on selecting great neighborhood out of numbers of other neighborhoods in North York,Toranto.\n\nFor someone who is migrating with their family, they need to consider various factors such as affordability of rent, community, School, Super market, medical shops, grocery shops, mall, theatre, hospital, like minded people,  etc.\n\nThis study is an attempt to analyze features for a people migrating to North York to search a best neighborhood as a comparative analysis between neighborhoods. The features include housing price and better school according to ratings, infrastructure/connectivity, crime rates of that particular area, weather conditions, good management for emergency, water resources etc.\n\nThis will help people to get awareness of the area and neighborhood before considering moving to a new city, state, country or place which they may be considering that would be close to their job."
        },
        {
            "cell_type": "markdown",
            "metadata": {},
            "source": "### Description of how the problem will be addressed and solved"
        },
        {
            "cell_type": "markdown",
            "metadata": {},
            "source": "The study here is being done on \n\n    1. Sorting the housing prices (in ascedning / descending order)\n    2. Sort schools in terms of fees, ratings and reviews and also location of the housing that is being considered.\n\nAs the above two are important for a new immigrant, who is migrating with their family."
        },
        {
            "cell_type": "markdown",
            "metadata": {},
            "source": "# Approach"
        },
        {
            "cell_type": "markdown",
            "metadata": {},
            "source": "The location that is being considered here is North York, Toronoto, for the purpose of study.\n\nThis project would use \n\n    1. Foursquare API - as data gathering resource. Using Foursquare API neighbourhood places would be mined.\n    2. Clustering - Explore the neighbourhood, segmnent & group them, using k-means clustering algorithm.    "
        },
        {
            "cell_type": "markdown",
            "metadata": {},
            "source": "## Libraries being used"
        },
        {
            "cell_type": "markdown",
            "metadata": {},
            "source": "The below mentioned libraries would be used for the study.\n    1. Pandas\n    2. Matplotlib\n    3. Folium\n    4. Geocoder\n    5. Scikit Learn\n    6. JSON\n    7. XML\n    8. BeautifulSoup"
        },
        {
            "cell_type": "code",
            "execution_count": null,
            "metadata": {},
            "outputs": [],
            "source": ""
        }
    ],
    "metadata": {
        "kernelspec": {
            "display_name": "Python 3.7",
            "language": "python",
            "name": "python3"
        },
        "language_info": {
            "codemirror_mode": {
                "name": "ipython",
                "version": 3
            },
            "file_extension": ".py",
            "mimetype": "text/x-python",
            "name": "python",
            "nbconvert_exporter": "python",
            "pygments_lexer": "ipython3",
            "version": "3.7.9"
        }
    },
    "nbformat": 4,
    "nbformat_minor": 1
}