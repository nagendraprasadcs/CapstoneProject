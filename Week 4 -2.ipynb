{
    "cells": [
        {
            "cell_type": "markdown",
            "metadata": {
                "collapsed": true
            },
            "source": "## Data Description"
        },
        {
            "cell_type": "markdown",
            "metadata": {},
            "source": "Source of data: https://en.wikipedia.org/wiki/List_of_postal_codes_of_Canada:_M"
        },
        {
            "cell_type": "markdown",
            "metadata": {},
            "source": "## Use of Foursquare API"
        },
        {
            "cell_type": "markdown",
            "metadata": {},
            "source": "Data would be needed for different neighbourhood of specific borough. In order to extract that data Foursquare API location information would be used.\n\nAfter finding the neighbourhood, connection would be established to gather information about venues around the neighbourhood.\n\nThe chosen radius for neighbourhood is 100 meters."
        },
        {
            "cell_type": "markdown",
            "metadata": {},
            "source": "Using Foursquare API the below data would be fetched.\n\n    1. Neighbourhood\n    2. Latitude\n    3. Longitutde\n    4. Venues\n    5. Name of Venue\n    6. Latitude and longitude of venue\n    7. Category of the venue"
        },
        {
            "cell_type": "code",
            "execution_count": null,
            "metadata": {},
            "outputs": [],
            "source": ""
        }
    ],
    "metadata": {
        "kernelspec": {
            "display_name": "Python 3.7",
            "language": "python",
            "name": "python3"
        },
        "language_info": {
            "codemirror_mode": {
                "name": "ipython",
                "version": 3
            },
            "file_extension": ".py",
            "mimetype": "text/x-python",
            "name": "python",
            "nbconvert_exporter": "python",
            "pygments_lexer": "ipython3",
            "version": "3.7.9"
        }
    },
    "nbformat": 4,
    "nbformat_minor": 1
}